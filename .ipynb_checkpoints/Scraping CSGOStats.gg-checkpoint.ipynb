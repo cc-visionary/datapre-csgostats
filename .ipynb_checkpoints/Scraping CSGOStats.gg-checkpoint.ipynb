{
 "cells": [
  {
   "cell_type": "markdown",
   "id": "9f2fc8fb",
   "metadata": {},
   "source": [
    "## Import Libraries"
   ]
  },
  {
   "cell_type": "code",
   "execution_count": 1,
   "id": "450872d8",
   "metadata": {},
   "outputs": [],
   "source": [
    "import requests\n",
    "import json\n",
    "import pandas as pd\n",
    "import numpy as np\n",
    "\n",
    "from bs4 import BeautifulSoup\n",
    "from selenium import webdriver\n",
    "from selenium.webdriver.chrome.options import Options"
   ]
  },
  {
   "cell_type": "markdown",
   "id": "6bc9f680",
   "metadata": {},
   "source": [
    "## Set constant variables"
   ]
  },
  {
   "cell_type": "code",
   "execution_count": 2,
   "id": "dcd4a69b",
   "metadata": {},
   "outputs": [],
   "source": [
    "base_url = 'https://csgostats.gg/'\n",
    "leaderboards_url = 'https://csgostats.gg/leaderboards'"
   ]
  },
  {
   "cell_type": "markdown",
   "id": "23efd094",
   "metadata": {},
   "source": [
    "## Get list of ranks and the urls for each rank leaderboard."
   ]
  },
  {
   "cell_type": "markdown",
   "id": "0fced46e",
   "metadata": {},
   "source": [
    "### Using Requets (can't scrape due to captcha)"
   ]
  },
  {
   "cell_type": "code",
   "execution_count": 12,
   "id": "68b6f9a6",
   "metadata": {},
   "outputs": [],
   "source": [
    "result = requests.get(leaderboards_url)"
   ]
  },
  {
   "cell_type": "code",
   "execution_count": 14,
   "id": "103e01bb",
   "metadata": {},
   "outputs": [],
   "source": [
    "soup = BeautifulSoup(result.text, 'html.parser')"
   ]
  },
  {
   "cell_type": "code",
   "execution_count": 15,
   "id": "9629b9bf",
   "metadata": {},
   "outputs": [
    {
     "data": {
      "text/plain": [
       "<!DOCTYPE html>\n",
       "\n",
       "<!--[if lt IE 7]> <html class=\"no-js ie6 oldie\" lang=\"en-US\"> <![endif]-->\n",
       "<!--[if IE 7]>    <html class=\"no-js ie7 oldie\" lang=\"en-US\"> <![endif]-->\n",
       "<!--[if IE 8]>    <html class=\"no-js ie8 oldie\" lang=\"en-US\"> <![endif]-->\n",
       "<!--[if gt IE 8]><!--> <html class=\"no-js\" lang=\"en-US\"> <!--<![endif]-->\n",
       "<head>\n",
       "<title>Attention Required! | Cloudflare</title>\n",
       "<meta charset=\"utf-8\"/>\n",
       "<meta content=\"text/html; charset=utf-8\" http-equiv=\"Content-Type\"/>\n",
       "<meta content=\"IE=Edge\" http-equiv=\"X-UA-Compatible\"/>\n",
       "<meta content=\"noindex, nofollow\" name=\"robots\"/>\n",
       "<meta content=\"width=device-width,initial-scale=1\" name=\"viewport\"/>\n",
       "<link href=\"/cdn-cgi/styles/cf.errors.css\" id=\"cf_styles-css\" rel=\"stylesheet\"/>\n",
       "<!--[if lt IE 9]><link rel=\"stylesheet\" id='cf_styles-ie-css' href=\"/cdn-cgi/styles/cf.errors.ie.css\" /><![endif]-->\n",
       "<style>body{margin:0;padding:0}</style>\n",
       "<!--[if gte IE 10]><!-->\n",
       "<script>\n",
       "  if (!navigator.cookieEnabled) {\n",
       "    window.addEventListener('DOMContentLoaded', function () {\n",
       "      var cookieEl = document.getElementById('cookie-alert');\n",
       "      cookieEl.style.display = 'block';\n",
       "    })\n",
       "  }\n",
       "</script>\n",
       "<!--<![endif]-->\n",
       "<script>\n",
       "    //<![CDATA[\n",
       "    (function(){\n",
       "      window._cf_chl_opt={\n",
       "        cvId: \"2\",\n",
       "        cType: \"interactive\",\n",
       "        cNounce: \"89673\",\n",
       "        cRay: \"71c18d4d7fdf3d48\",\n",
       "        cHash: \"5b84d29c4345feb\",\n",
       "        cUPMDTk: \"\\/leaderboards?__cf_chl_tk=3.fhPwIzEfqKwou9AX.Nzg13o.HWfMYxL.YZ5VDMvBo-1655361604-0-gaNycGzNBz0\",\n",
       "        cFPWv: \"g\",\n",
       "        cTTimeMs: \"1000\",\n",
       "        cLt: \"n\",\n",
       "        cRq: {\n",
       "          ru: \"aHR0cHM6Ly9jc2dvc3RhdHMuZ2cvbGVhZGVyYm9hcmRz\",\n",
       "          ra: \"cHl0aG9uLXJlcXVlc3RzLzIuMjcuMQ==\",\n",
       "          rm: \"R0VU\",\n",
       "          d: \"50ScD78eGvGCjbBrVsAUZ+cwYEcZkZm1kqPY7hZROCUSogzm1AVYFcfq8+ybEa73rzLVzKzkNB50FMzE6PxgoJvrPMtoGwkq/cGA6Ou3zfI0w2GxgxiPlLg2artrFKUe8yfXrH5DFWL2IDuxylHXWpRpy+iNDFRNq2x6zivuF+zrGVDaY8FSbD25SchwykTWvY0J1tFVOTAR4aRsCuK/QorNXbufShY9oY+LrzDLH3k1Q2eU6kNQp2GLAsGSEQqqhMYL6vFDCSo6nMQZplFpe3+VTdvPG7ozOk2Tb3OqSiar/XPMEFfC/JZJbISZaugRWh5kpmx+g7N1x/3JgGsf1EIvrmCvJy6N4iYrmlvJTY98WQEqjquyKBxFpnIlI7mtJGyx4Ry4kL/4Q5ulXlVymVl7XWjHKkg/RN/L8PVOBqvVPj6zEy8UnSXpEfD1O718dlorz6oksXhx8KdEil+UdFeEv+yCq69S9OibOyddbqSf/H3ytMmbSIwO0u5AEIfXjyqbU6uGE1kLQeec7CKKxqUY+18uc25ODwJQ5MsZfazlbmkVyZjNqQa8ljeJLNxUd4eDeayuhq39elV7j5XZqoad+R6m280fnktW4RCfA+c=\",\n",
       "          t: \"MTY1NTM2MTYwNC43MjYwMDA=\",\n",
       "          m: \"GN/DFs9h1u36Qh83vLXu8D0KZsFddT0sSUaenYhcn1o=\",\n",
       "          i1: \"adiPrFQOX+ZMXpefykZgwg==\",\n",
       "          i2: \"SY4LUZSx5EIDQ40u6y6f5w==\",\n",
       "          zh: \"94Dvc1TBoHUWe0T/T4VD40qoKXoJ5EPRilaC6GfZbWU=\",\n",
       "          uh: \"JNy/u1JaDY8l68+s834y37Qd6UIzTJLBzCkJPX4t/ps=\",\n",
       "          hh: \"w3lZYeC9He0WnP0kBmRlP4WyBIpRSCrbUDw5Pcv4oFY=\",\n",
       "        }\n",
       "      };\n",
       "    }());\n",
       "    //]]>\n",
       "    </script>\n",
       "<style>\n",
       "  #cf-wrapper #spinner {width:69px; margin:  auto;}\n",
       "  #cf-wrapper #cf-please-wait{text-align:center}\n",
       "  .attribution {margin-top: 32px;}\n",
       "  .bubbles { background-color: #f58220; width:20px; height: 20px; margin:2px; border-radius:100%; display:inline-block; }\n",
       "  #cf-wrapper #challenge-form { padding-top:25px; padding-bottom:25px; }\n",
       "  #cf-hcaptcha-container { text-align:center;}\n",
       "  #cf-hcaptcha-container iframe { display: inline-block;}\n",
       "  @keyframes fader     { 0% {opacity: 0.2;} 50% {opacity: 1.0;} 100% {opacity: 0.2;} }\n",
       "  #cf-wrapper #cf-bubbles { width:69px; }\n",
       "  @-webkit-keyframes fader { 0% {opacity: 0.2;} 50% {opacity: 1.0;} 100% {opacity: 0.2;} }\n",
       "  #cf-bubbles > .bubbles { animation: fader 1.6s infinite;}\n",
       "  #cf-bubbles > .bubbles:nth-child(2) { animation-delay: .2s;}\n",
       "  #cf-bubbles > .bubbles:nth-child(3) { animation-delay: .4s;}\n",
       "</style>\n",
       "</head>\n",
       "<body>\n",
       "<div id=\"cf-wrapper\">\n",
       "<div class=\"cf-alert cf-alert-error cf-cookie-error\" data-translate=\"enable_cookies\" id=\"cookie-alert\">Please enable cookies.</div>\n",
       "<div class=\"cf-error-details-wrapper\" id=\"cf-error-details\">\n",
       "<div class=\"cf-wrapper cf-header cf-error-overview\">\n",
       "<h1 data-translate=\"challenge_headline\">One more step</h1>\n",
       "<h2 class=\"cf-subheadline\"><span data-translate=\"complete_sec_check\">Please complete the security check to access</span> csgostats.gg</h2>\n",
       "</div>\n",
       "<div class=\"cf-section cf-highlight cf-captcha-container\">\n",
       "<div class=\"cf-wrapper\">\n",
       "<div class=\"cf-columns two\">\n",
       "<div class=\"cf-column\">\n",
       "<div class=\"cf-highlight-inverse cf-form-stacked\">\n",
       "<form action=\"/leaderboards?__cf_chl_f_tk=3.fhPwIzEfqKwou9AX.Nzg13o.HWfMYxL.YZ5VDMvBo-1655361604-0-gaNycGzNBz0\" class=\"challenge-form interactive-form\" enctype=\"application/x-www-form-urlencoded\" id=\"challenge-form\" method=\"POST\">\n",
       "<div id=\"cf-please-wait\">\n",
       "<div id=\"spinner\">\n",
       "<div id=\"cf-bubbles\">\n",
       "<div class=\"bubbles\"></div>\n",
       "<div class=\"bubbles\"></div>\n",
       "<div class=\"bubbles\"></div>\n",
       "</div>\n",
       "</div>\n",
       "<p data-translate=\"please_wait\" id=\"cf-spinner-please-wait\">Please stand by, while we are checking your browser...</p>\n",
       "<p data-translate=\"redirecting\" id=\"cf-spinner-redirecting\" style=\"display:none\">Redirecting...</p>\n",
       "</div>\n",
       "<input name=\"md\" type=\"hidden\" value=\"8fQYxocoXPJrvoMhvscVt65SRrRiY6JwYokWKZeGCDc-1655361604-0-AdXVWXs3R4AaW8mwj8c_y8q2Azp8b9FyzfJJXuXVg0RJAyD-6UqW_JHS-oidAl0pgb8t8fnsZex0tcn21E5rF9zpwvjJlFtJE_ow7F2Xb23h41c9edpEvod0cre7aF1tlAMirp0s19UqqMEuhmRDs_0BqbsHa6_2iTL7gOPcqzBrfdOFVbeqFLlukgQgYUlsZY2j0cFFniVtOOGGnKuCJKEJcw3Bh08BopWzJOPxj8fTadA0TvO2BbJP8N0u_sBUxlqULQ1tFjpBgHdDtHM9EIysZ8TdjRESfY-1QASSw2zr30MPc_W_iWW4cc1i0TK5Q1XQI0OwZkmZJwTS4HLHn2Bm-XOLHS5R5sutgRgYAMcfrUeSlZn_F0BQr7-K1Pq-DTX3IzK4wjCAHWDByrej64Eo4GdGwE5g_rgn6cIIAiBMZvJ7C6swGqflDiqULOuzQpLdAfm5WDn9ha3_S9NKRHYYB_tSXTdKrhR5synbI0XYdJx7LK_FG85SvHb9M23F2KAxyPVQ1dTsX2ScCkAHfHZblfzxNGub0Wj03pKJYiYRfmkpy6W5Jq21IgeMHGdyyS2LNGrMFxc42vMLf-w7h9abnFdIzvNEVmI7Gnh-2upldGh_MLiRkvlllIxByIKa8jWI95hemhiCvzdC28i44TVKmqoZ29iYvtO7-WTRG_41ZI1maKly2vrlndRV4mHDuZ1E8Skuce1Dbt8-0BBcC6OohRBy_mNhQ-W3EUBpIfgdIvbxZy4fVqDL33f7_AddOvBseQ7U2ZrlJvCrsYFew7rcpDLuoGGeJwS-yHp-IjI9LioKwfYxtZjAjURYSHdjshNJFaOTEsFBmllUsowgtpI\"/>\n",
       "<input name=\"r\" type=\"hidden\" value=\"qLKhJ5weC.4vvapiM7GtqmKQs7YPY2gdwztRwtzSKNc-1655361604-0-Ad5WG9tnKx1aMwYhJcmudZ4gIc5qc/tTduiEfWHhBgjb+WmUF7OIHfp26/Y2rKGaQ/9EwZZslKuI+uUON/wk6lpzL8TcJnRfv6vVMstE/vm67X78Q4zINsL1GNMYpUsyh6/EZhUhwkNh0mFoId52DilXqKdorMl/PuHWsatml9xjKR9OzC2qZU1OalpBemWkiYaF+W4JYZQklRk+eVNYLR0lQu4E4O4djoGKzIPBZkyOjDnAec7hxwBN+ZOUtgL4ogugxyRmCrV70vYD9XuszMyp0FI3g+NmgtHyG8brjDHmpLmlBMIYQ+8DHrzw+M3cMeEIrjrqiuLe62hraN+rurkmbaUFdv3WoQSZVLgZIXwLy1e4XA9bzBwGQd5wKiX5q5CDXd2Pun19djkh4lh9uF6sx2y0PYppWIZpqYq2GeC3eB/t2mWrnggqP5q5h39d7xehJ7hIiio28jmqsjZF6gqUfZw6FSS6SMMC1ZsvzJ7o+TefL1mfk7ZsGcbeKHkQyGfulgw7tN82CZ5+SqumLmCfD6pfhApIyJSh2Dri0cYjP3kMKkBSy7I1EXurVnVrLqIgWpItCio7I4MPRaTTh6d1kEoPWDU6s/kOK2NJ/9O79hTruLqutHJ7ke/BzxR0ELTNQ7dOR7vT3TZNGioCIrEJdau0CZTsRoodSl5vfMbZjNFCzdZc/9VZmHF3pD2nt1nG2ZqRS2NDcMUHjIj1aP4wSSoyr6iWlhcxhppGEOSRMKfb4C20TXxrOsZ+Iz/zqp1iHFMIQoT4fXcPrCh/bW2OcUh0ZcENpnMqBkpJNi0rfIDTGWGWTwcv1a518W8wULV3hm7sETNTXL0kyJfQLom/KoQxB4lHGFr2Bu6O6PLLk4CaDB3CaXe01OP0w+jJ6J0hHwYPjvctCt0wWMWR7rJsaoqGqd/cgb0yURSQuxWUjH+1msu3xZutTIw6ih2WLa8JYkgVEfgIeVcNgg4Hbn/0XrJGP2wWBWuvgB6ykIAG70U3F3c7xSzcJi+MURIjObJneerG/5DhojcT1lNYcR1sqVUl1GutNzm/9gnTaSTJ0rNxALuZEPWtOvTzve5c7W3RJZLlKitKY1wUMs3hJDEM8PJ8w9OLbS+RnUYIFGKF6BPRKYyh4AVQYbE5620BiSQwOD1eFkTKlpq5j42XaSRWeI6GeB17wfUbz2UcsVJbPHSaHuQGWezqqB59TA2zNjp92l7iHejyzSSBFoDWC1lTCKHg8iMTF1Wi3hwMkJnSwrVNe2MQ1LvtLuf8Y9X4yBVP+5IWyFMXo6unw8XIWm/Gqpu73ZINe3/AIi79S8xpcCx7c0GPpFo8SLfeGeC1tDWj8fIfxFZx3387loWC+b/bLByy7hwR0TgA6GoIgOXGJEPiaNLeUtnth06OacqwqkZLIFPfrOCqGTJC5f2DaRWw5gFSQMqEqo38HdRsHF343lQslRDhhLwEAoqnm8hwaWxTA7qe9bh1kMjKHNGJSve8Dg5nTK/1XTh2kiCHE8Sj/tcpgz5hXOuQVvb//RDFqaNmllwtZEHqSeLJF7g9D3J+RWUBrziM865ajUj23ANzSrooq8V6vu0BaSiIsIHTPZ9YCsNdlOOQgXffzGzVm4e+d7jblbMyCgt0hyEdb4vc5aEOBwiOiYQUBLlI+eiKuSdzqLQXFiqcU3oCyY4AuFP6WyDoISZ01GTBgrsWXOVMIGBW4yipZ9c8a4E93dfP9iuqNOTf42ED1JNR3AZ/shv2/z1/8N1qLCO9mf7Oo22ZAlN6whh6KAO2qW1815xQGg==\"/>\n",
       "<input name=\"vc\" type=\"hidden\" value=\"c7ffc5dc1aa5dde97f5057db830bfd8f\"/>\n",
       "<noscript class=\"cf-captcha-info\" id=\"cf-captcha-bookmark\">\n",
       "<h1 data-translate=\"turn_on_js\" style=\"color:#bd2426;\">Please turn JavaScript on and reload the page.</h1>\n",
       "</noscript>\n",
       "<div class=\"cookie-warning\" data-translate=\"turn_on_cookies\" id=\"no-cookie-warning\" style=\"display:none\">\n",
       "<p data-translate=\"turn_on_cookies\" style=\"color:#bd2426;\">Please enable Cookies and reload the page.</p>\n",
       "</div>\n",
       "<script>\n",
       "  //<![CDATA[\n",
       "    var a = function() {try{return !!window.addEventListener} catch(e) {return !1} },\n",
       "      b = function(b, c) {a() ? document.addEventListener(\"DOMContentLoaded\", b, c) : document.attachEvent(\"onreadystatechange\", b)};\n",
       "      b(function(){\n",
       "        var cookiesEnabled=(navigator.cookieEnabled)? true : false;\n",
       "        if(!cookiesEnabled){\n",
       "          var q = document.getElementById('no-cookie-warning');q.style.display = 'block';\n",
       "        }\n",
       "      });\n",
       "  //]]>\n",
       "  </script>\n",
       "<div id=\"trk_captcha_js\" style=\"background-image:url('/cdn-cgi/images/trace/captcha/nojs/h/transparent.gif?ray=71c18d4d7fdf3d48')\"></div>\n",
       "</form>\n",
       "<script>\n",
       "    //<![CDATA[\n",
       "    (function(){\n",
       "        var isIE = /(MSIE|Trident\\/|Edge\\/)/i.test(window.navigator.userAgent);\n",
       "        var trkjs = isIE ? new Image() : document.createElement('img');\n",
       "        trkjs.setAttribute(\"src\", \"/cdn-cgi/images/trace/captcha/js/transparent.gif?ray=71c18d4d7fdf3d48\");\n",
       "        trkjs.id = \"trk_captcha_js\";\n",
       "        trkjs.setAttribute(\"alt\", \"\");\n",
       "        document.body.appendChild(trkjs);\n",
       "        var cpo=document.createElement('script');\n",
       "        cpo.type='text/javascript';\n",
       "        cpo.src=\"/cdn-cgi/challenge-platform/h/g/orchestrate/captcha/v1?ray=71c18d4d7fdf3d48\";\n",
       "        \n",
       "        window._cf_chl_opt.cOgUHash = location.hash === '' && location.href.indexOf('#') !== -1 ? '#' : location.hash;\n",
       "        window._cf_chl_opt.cOgUQuery = location.search === '' && location.href.slice(0, -window._cf_chl_opt.cOgUHash.length).indexOf('?') !== -1 ? '?' : location.search;\n",
       "        if (window._cf_chl_opt.cUPMDTk && window.history && window.history.replaceState) {\n",
       "          var ogU = location.pathname + window._cf_chl_opt.cOgUQuery + window._cf_chl_opt.cOgUHash;\n",
       "          history.replaceState(null, null, \"\\/leaderboards?__cf_chl_rt_tk=3.fhPwIzEfqKwou9AX.Nzg13o.HWfMYxL.YZ5VDMvBo-1655361604-0-gaNycGzNBz0\" + window._cf_chl_opt.cOgUHash);\n",
       "          cpo.onload = function() {\n",
       "            history.replaceState(null, null, ogU);\n",
       "          };\n",
       "        }\n",
       "        \n",
       "        document.getElementsByTagName('head')[0].appendChild(cpo);\n",
       "    }());\n",
       "    //]]>\n",
       "    </script>\n",
       "</div>\n",
       "</div>\n",
       "<div class=\"cf-column\">\n",
       "<div class=\"cf-screenshot-container\">\n",
       "<span class=\"cf-no-screenshot\"></span>\n",
       "</div>\n",
       "</div>\n",
       "</div>\n",
       "</div>\n",
       "</div>\n",
       "<div class=\"cf-section cf-wrapper\">\n",
       "<div class=\"cf-columns two\">\n",
       "<div class=\"cf-column\">\n",
       "<h2 data-translate=\"why_captcha_headline\">Why do I have to complete a CAPTCHA?</h2>\n",
       "<p data-translate=\"why_captcha_detail\">Completing the CAPTCHA proves you are a human and gives you temporary access to the web property.</p>\n",
       "</div>\n",
       "<div class=\"cf-column\">\n",
       "<h2 data-translate=\"resolve_captcha_headline\">What can I do to prevent this in the future?</h2>\n",
       "<p data-translate=\"resolve_captcha_antivirus\">If you are on a personal connection, like at home, you can run an anti-virus scan on your device to make sure it is not infected with malware.</p>\n",
       "<p data-translate=\"resolve_captcha_network\">If you are at an office or shared network, you can ask the network administrator to run a scan across the network looking for misconfigured or infected devices.</p>\n",
       "</div>\n",
       "</div>\n",
       "</div>\n",
       "<div class=\"cf-error-footer cf-wrapper w-240 lg:w-full py-10 sm:py-4 sm:px-8 mx-auto text-center sm:text-left border-solid border-0 border-t border-gray-300\">\n",
       "<p class=\"text-13\">\n",
       "<span class=\"cf-footer-item sm:block sm:mb-1\">Cloudflare Ray ID: <strong class=\"font-semibold\">71c18d4d7fdf3d48</strong></span>\n",
       "<span class=\"cf-footer-separator sm:hidden\">•</span>\n",
       "<span class=\"cf-footer-item sm:block sm:mb-1\"><span>Your IP</span>: 120.72.17.214</span>\n",
       "<span class=\"cf-footer-separator sm:hidden\">•</span>\n",
       "<span class=\"cf-footer-item sm:block sm:mb-1\"><span>Performance &amp; security by</span> <a href=\"https://www.cloudflare.com/5xx-error-landing\" id=\"brand_link\" rel=\"noopener noreferrer\" target=\"_blank\">Cloudflare</a></span>\n",
       "</p>\n",
       "</div><!-- /.error-footer -->\n",
       "</div>\n",
       "</div>\n",
       "<script>\n",
       "  window._cf_translation = {};\n",
       "  \n",
       "  \n",
       "</script>\n",
       "</body>\n",
       "</html>"
      ]
     },
     "execution_count": 15,
     "metadata": {},
     "output_type": "execute_result"
    }
   ],
   "source": [
    "soup"
   ]
  },
  {
   "cell_type": "markdown",
   "id": "9b3cf914",
   "metadata": {},
   "source": [
    "### Using selenium"
   ]
  },
  {
   "cell_type": "code",
   "execution_count": 3,
   "id": "e1d7fde7",
   "metadata": {},
   "outputs": [
    {
     "name": "stderr",
     "output_type": "stream",
     "text": [
      "C:\\Users\\chris\\AppData\\Local\\Temp\\ipykernel_52568\\2934600973.py:18: DeprecationWarning: executable_path has been deprecated, please pass in a Service object\n",
      "  driver = webdriver.Chrome('./chromedriver/chromedriver.exe', options=chromeOptions, service_args=['--verbose'])\n"
     ]
    }
   ],
   "source": [
    "# webdriver options\n",
    "chromeOptions = Options()\n",
    "# chromeOptions.add_argument('--kiosk')                          # sets the headless browser into full screen mode\n",
    "# chromeOptions.add_argument('--headless')                       # opens the browser silently (hides it, if you enable this, make sure to disable kiosk)\n",
    "chromeOptions.add_argument('--log-level=3')                    # stops the headless browser's logging features\n",
    "# chromeOptions.add_argument('blink-settings=imagesEnabled=false') # set loading images to be false (for faster loading)\n",
    "chromeOptions.add_argument('--no-sandbox')                     # required when running as root user. otherwise you would get no sandbox errors. \n",
    "chromeOptions.add_argument('--disable-extensions')\n",
    "chromeOptions.add_argument('--disable-gpu')\n",
    "chromeOptions.page_load_strategy = 'normal'\n",
    "chromeOptions.add_argument(\"--profile-directory=Default\")\n",
    "chromeOptions.add_argument(\"--user-data-dir=C:/Users/chris/AppData/Local/Google/Chrome/User Data\")\n",
    "chromeOptions.add_argument('--disable-blink-features=AutomationControlled')\n",
    "\n",
    "chromeOptions.add_argument(\"user-agent=Mozilla/5.0 (Windows NT 10.0; Win64; x64) AppleWebKit/537.36 (KHTML, like Gecko) Chrome/80.0.3987.149 Safari/537.36\")\n",
    "\n",
    "# Run the Driver\n",
    "driver = webdriver.Chrome('./chromedriver/chromedriver.exe', options=chromeOptions, service_args=['--verbose'])"
   ]
  },
  {
   "cell_type": "code",
   "execution_count": 51,
   "id": "083d7433",
   "metadata": {},
   "outputs": [],
   "source": [
    "# Close the driver\n",
    "driver.close()"
   ]
  },
  {
   "cell_type": "code",
   "execution_count": 25,
   "id": "94949bfd",
   "metadata": {},
   "outputs": [],
   "source": [
    "driver.get(leaderboards_url)"
   ]
  },
  {
   "cell_type": "code",
   "execution_count": 37,
   "id": "62d1f448",
   "metadata": {},
   "outputs": [
    {
     "name": "stderr",
     "output_type": "stream",
     "text": [
      "C:\\Users\\chris\\AppData\\Local\\Temp\\ipykernel_20740\\1731053946.py:6: DeprecationWarning: find_elements_by_tag_name is deprecated. Please use find_elements(by=By.TAG_NAME, value=name) instead\n",
      "  for li in driver.find_elements_by_tag_name('ul')[5].find_elements_by_tag_name('li'):\n",
      "C:\\Users\\chris\\AppData\\Local\\Temp\\ipykernel_20740\\1731053946.py:7: DeprecationWarning: find_element_by_tag_name is deprecated. Please use find_element(by=By.TAG_NAME, value=name) instead\n",
      "  rank_name = li.find_element_by_tag_name('img').get_attribute('alt')\n",
      "C:\\Users\\chris\\AppData\\Local\\Temp\\ipykernel_20740\\1731053946.py:8: DeprecationWarning: find_element_by_tag_name is deprecated. Please use find_element(by=By.TAG_NAME, value=name) instead\n",
      "  rank_url = li.find_element_by_tag_name('a').get_attribute('href')\n"
     ]
    },
    {
     "name": "stdout",
     "output_type": "stream",
     "text": [
      "Silver I | https://csgostats.gg/leaderboards/1\n",
      "Silver II | https://csgostats.gg/leaderboards/2\n",
      "Silver III | https://csgostats.gg/leaderboards/3\n",
      "Silver IV | https://csgostats.gg/leaderboards/4\n",
      "Silver Elite | https://csgostats.gg/leaderboards/5\n",
      "Silver Elite Master | https://csgostats.gg/leaderboards/6\n",
      "Gold Nova I | https://csgostats.gg/leaderboards/7\n",
      "Gold Nova II | https://csgostats.gg/leaderboards/8\n",
      "Gold Nova III | https://csgostats.gg/leaderboards/9\n",
      "Gold Nova Master | https://csgostats.gg/leaderboards/10\n",
      "Master Guardian I | https://csgostats.gg/leaderboards/11\n",
      "Master Guardian II | https://csgostats.gg/leaderboards/12\n",
      "Master Guardian Elite | https://csgostats.gg/leaderboards/13\n",
      "Distinguished Master Guardian | https://csgostats.gg/leaderboards/14\n",
      "Legendary Eagle | https://csgostats.gg/leaderboards/15\n",
      "Legendary Eagle Master | https://csgostats.gg/leaderboards/16\n",
      "Supreme Master First Class | https://csgostats.gg/leaderboards/17\n",
      "The Global Elite | https://csgostats.gg/leaderboards/18\n"
     ]
    }
   ],
   "source": [
    "# Get the list of ranks and the corresponding leaderboards in that rank\n",
    "ranks = {\n",
    "    'Rank': [],\n",
    "    'URL': [],\n",
    "}\n",
    "for li in driver.find_elements_by_tag_name('ul')[5].find_elements_by_tag_name('li'):\n",
    "    rank_name = li.find_element_by_tag_name('img').get_attribute('alt')\n",
    "    rank_url = li.find_element_by_tag_name('a').get_attribute('href')\n",
    "    \n",
    "    print(rank_name, '|', rank_url)\n",
    "    \n",
    "    ranks['Rank'].append(rank_name)\n",
    "    ranks['URL'].append(rank_url)"
   ]
  },
  {
   "cell_type": "code",
   "execution_count": 38,
   "id": "43f73c8b",
   "metadata": {},
   "outputs": [
    {
     "data": {
      "text/html": [
       "<div>\n",
       "<style scoped>\n",
       "    .dataframe tbody tr th:only-of-type {\n",
       "        vertical-align: middle;\n",
       "    }\n",
       "\n",
       "    .dataframe tbody tr th {\n",
       "        vertical-align: top;\n",
       "    }\n",
       "\n",
       "    .dataframe thead th {\n",
       "        text-align: right;\n",
       "    }\n",
       "</style>\n",
       "<table border=\"1\" class=\"dataframe\">\n",
       "  <thead>\n",
       "    <tr style=\"text-align: right;\">\n",
       "      <th></th>\n",
       "      <th>Rank</th>\n",
       "      <th>URL</th>\n",
       "    </tr>\n",
       "  </thead>\n",
       "  <tbody>\n",
       "    <tr>\n",
       "      <th>0</th>\n",
       "      <td>Silver I</td>\n",
       "      <td>https://csgostats.gg/leaderboards/1</td>\n",
       "    </tr>\n",
       "    <tr>\n",
       "      <th>1</th>\n",
       "      <td>Silver II</td>\n",
       "      <td>https://csgostats.gg/leaderboards/2</td>\n",
       "    </tr>\n",
       "    <tr>\n",
       "      <th>2</th>\n",
       "      <td>Silver III</td>\n",
       "      <td>https://csgostats.gg/leaderboards/3</td>\n",
       "    </tr>\n",
       "    <tr>\n",
       "      <th>3</th>\n",
       "      <td>Silver IV</td>\n",
       "      <td>https://csgostats.gg/leaderboards/4</td>\n",
       "    </tr>\n",
       "    <tr>\n",
       "      <th>4</th>\n",
       "      <td>Silver Elite</td>\n",
       "      <td>https://csgostats.gg/leaderboards/5</td>\n",
       "    </tr>\n",
       "  </tbody>\n",
       "</table>\n",
       "</div>"
      ],
      "text/plain": [
       "           Rank                                  URL\n",
       "0      Silver I  https://csgostats.gg/leaderboards/1\n",
       "1     Silver II  https://csgostats.gg/leaderboards/2\n",
       "2    Silver III  https://csgostats.gg/leaderboards/3\n",
       "3     Silver IV  https://csgostats.gg/leaderboards/4\n",
       "4  Silver Elite  https://csgostats.gg/leaderboards/5"
      ]
     },
     "execution_count": 38,
     "metadata": {},
     "output_type": "execute_result"
    }
   ],
   "source": [
    "ranks_df = pd.DataFrame(ranks)\n",
    "ranks_df.head()"
   ]
  },
  {
   "cell_type": "code",
   "execution_count": 40,
   "id": "3e1408e4",
   "metadata": {},
   "outputs": [],
   "source": [
    "ranks_df.to_csv('ranks.csv', index=False)"
   ]
  },
  {
   "cell_type": "markdown",
   "id": "91379d95",
   "metadata": {},
   "source": [
    "## Get all the players and their stats for each rank"
   ]
  },
  {
   "cell_type": "code",
   "execution_count": 5,
   "id": "84c021d0",
   "metadata": {},
   "outputs": [
    {
     "data": {
      "text/html": [
       "<div>\n",
       "<style scoped>\n",
       "    .dataframe tbody tr th:only-of-type {\n",
       "        vertical-align: middle;\n",
       "    }\n",
       "\n",
       "    .dataframe tbody tr th {\n",
       "        vertical-align: top;\n",
       "    }\n",
       "\n",
       "    .dataframe thead th {\n",
       "        text-align: right;\n",
       "    }\n",
       "</style>\n",
       "<table border=\"1\" class=\"dataframe\">\n",
       "  <thead>\n",
       "    <tr style=\"text-align: right;\">\n",
       "      <th></th>\n",
       "      <th>Rank</th>\n",
       "      <th>URL</th>\n",
       "    </tr>\n",
       "  </thead>\n",
       "  <tbody>\n",
       "    <tr>\n",
       "      <th>0</th>\n",
       "      <td>Silver I</td>\n",
       "      <td>https://csgostats.gg/leaderboards/1</td>\n",
       "    </tr>\n",
       "    <tr>\n",
       "      <th>1</th>\n",
       "      <td>Silver II</td>\n",
       "      <td>https://csgostats.gg/leaderboards/2</td>\n",
       "    </tr>\n",
       "    <tr>\n",
       "      <th>2</th>\n",
       "      <td>Silver III</td>\n",
       "      <td>https://csgostats.gg/leaderboards/3</td>\n",
       "    </tr>\n",
       "    <tr>\n",
       "      <th>3</th>\n",
       "      <td>Silver IV</td>\n",
       "      <td>https://csgostats.gg/leaderboards/4</td>\n",
       "    </tr>\n",
       "    <tr>\n",
       "      <th>4</th>\n",
       "      <td>Silver Elite</td>\n",
       "      <td>https://csgostats.gg/leaderboards/5</td>\n",
       "    </tr>\n",
       "  </tbody>\n",
       "</table>\n",
       "</div>"
      ],
      "text/plain": [
       "           Rank                                  URL\n",
       "0      Silver I  https://csgostats.gg/leaderboards/1\n",
       "1     Silver II  https://csgostats.gg/leaderboards/2\n",
       "2    Silver III  https://csgostats.gg/leaderboards/3\n",
       "3     Silver IV  https://csgostats.gg/leaderboards/4\n",
       "4  Silver Elite  https://csgostats.gg/leaderboards/5"
      ]
     },
     "execution_count": 5,
     "metadata": {},
     "output_type": "execute_result"
    }
   ],
   "source": [
    "ranks_df = pd.read_csv('ranks.csv')\n",
    "ranks_df.head()"
   ]
  },
  {
   "cell_type": "code",
   "execution_count": 6,
   "id": "f921421b",
   "metadata": {},
   "outputs": [
    {
     "name": "stdout",
     "output_type": "stream",
     "text": [
      "Silver I\n"
     ]
    }
   ],
   "source": [
    "players = {\n",
    "    'Rank': [],\n",
    "    'Username': [],\n",
    "    'Primary Weapon': [],\n",
    "    'Secondary Weapon': [],\n",
    "    'K/D Score': [],\n",
    "    'K/D Ratio': [],\n",
    "    'HS %': [],\n",
    "    'Win Rate': [],\n",
    "    '1vX': [],\n",
    "    'Rating': []\n",
    "}\n",
    "\n",
    "for _, data in list(ranks_df.iterrows())[:1]:\n",
    "    print(data['Rank'])\n",
    "    driver.get(data['URL'])"
   ]
  },
  {
   "cell_type": "code",
   "execution_count": 11,
   "id": "bd825a40",
   "metadata": {},
   "outputs": [
    {
     "name": "stderr",
     "output_type": "stream",
     "text": [
      "C:\\Users\\chris\\AppData\\Local\\Temp\\ipykernel_52568\\485795029.py:1: DeprecationWarning: find_element_by_class_name is deprecated. Please use find_element(by=By.CLASS_NAME, value=name) instead\n",
      "  driver.find_element_by_class_name('global-lb').find_elements_by_tag_name('div')[7].text\n",
      "C:\\Users\\chris\\AppData\\Local\\Temp\\ipykernel_52568\\485795029.py:1: DeprecationWarning: find_elements_by_tag_name is deprecated. Please use find_elements(by=By.TAG_NAME, value=name) instead\n",
      "  driver.find_element_by_class_name('global-lb').find_elements_by_tag_name('div')[7].text\n"
     ]
    },
    {
     "data": {
      "text/plain": [
       "'Primary'"
      ]
     },
     "execution_count": 11,
     "metadata": {},
     "output_type": "execute_result"
    }
   ],
   "source": [
    "driver.find_element_by_class_name('global-lb').find_elements_by_tag_name('div')[7].text"
   ]
  },
  {
   "cell_type": "code",
   "execution_count": null,
   "id": "4f991af2",
   "metadata": {},
   "outputs": [],
   "source": []
  }
 ],
 "metadata": {
  "kernelspec": {
   "display_name": "Python 3 (ipykernel)",
   "language": "python",
   "name": "python3"
  },
  "language_info": {
   "codemirror_mode": {
    "name": "ipython",
    "version": 3
   },
   "file_extension": ".py",
   "mimetype": "text/x-python",
   "name": "python",
   "nbconvert_exporter": "python",
   "pygments_lexer": "ipython3",
   "version": "3.8.8"
  },
  "toc": {
   "base_numbering": 1,
   "nav_menu": {},
   "number_sections": true,
   "sideBar": true,
   "skip_h1_title": false,
   "title_cell": "Table of Contents",
   "title_sidebar": "Contents",
   "toc_cell": false,
   "toc_position": {},
   "toc_section_display": true,
   "toc_window_display": false
  }
 },
 "nbformat": 4,
 "nbformat_minor": 5
}
